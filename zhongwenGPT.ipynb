{
  "nbformat": 4,
  "nbformat_minor": 0,
  "metadata": {
    "colab": {
      "name": "zhongwenGPT.ipynb",
      "provenance": [],
      "collapsed_sections": [],
      "mount_file_id": "1oSUME5enGMtrqHSkAO1MQ6CBMXuAQWwN",
      "authorship_tag": "ABX9TyPtREfwQz9hTF/Z1Zy/4Ed2",
      "include_colab_link": true
    },
    "kernelspec": {
      "name": "python3",
      "display_name": "Python 3"
    },
    "language_info": {
      "name": "python"
    },
    "accelerator": "GPU",
    "gpuClass": "standard"
  },
  "cells": [
    {
      "cell_type": "markdown",
      "metadata": {
        "id": "view-in-github",
        "colab_type": "text"
      },
      "source": [
        "<a href=\"https://colab.research.google.com/github/kof0012/Winwopy/blob/master/zhongwenGPT.ipynb\" target=\"_parent\"><img src=\"https://colab.research.google.com/assets/colab-badge.svg\" alt=\"Open In Colab\"/></a>"
      ]
    },
    {
      "cell_type": "code",
      "source": [
        "!unzip /content/drive/MyDrive/GPT2.zip"
      ],
      "metadata": {
        "id": "TZN3fCPjsKaN"
      },
      "execution_count": null,
      "outputs": []
    },
    {
      "cell_type": "code",
      "source": [
        "%cd /content/GPT2-Chinese-old_gpt_2_chinese_before_2021_4_22/"
      ],
      "metadata": {
        "colab": {
          "base_uri": "https://localhost:8080/"
        },
        "id": "R7VnBFn9vd_x",
        "outputId": "3e8784f6-8ab6-4318-9f33-7eb3eb13ec3b"
      },
      "execution_count": null,
      "outputs": [
        {
          "output_type": "stream",
          "name": "stdout",
          "text": [
            "/content/GPT2-Chinese-old_gpt_2_chinese_before_2021_4_22\n"
          ]
        }
      ]
    },
    {
      "cell_type": "code",
      "source": [
        "mkdir data"
      ],
      "metadata": {
        "id": "sm1uqfWdtaBv"
      },
      "execution_count": null,
      "outputs": []
    },
    {
      "cell_type": "code",
      "source": [
        "cp /content/drive/MyDrive/zhongwen/GPT2-Chinese/data/train.json /content/GPT2-Chinese-old_gpt_2_chinese_before_2021_4_22/data"
      ],
      "metadata": {
        "id": "HHxoWHxouMWE"
      },
      "execution_count": null,
      "outputs": []
    },
    {
      "cell_type": "code",
      "source": [
        "!pip install -r requirements.txt"
      ],
      "metadata": {
        "id": "tAIha0wovmsa"
      },
      "execution_count": null,
      "outputs": []
    },
    {
      "cell_type": "code",
      "source": [
        "!python3 train.py --raw --batch_size 4 --epochs 16"
      ],
      "metadata": {
        "colab": {
          "base_uri": "https://localhost:8080/"
        },
        "id": "BtxTrgRTpGkW",
        "outputId": "352e8cf1-437b-442a-984a-84c65c1a21a9"
      },
      "execution_count": null,
      "outputs": [
        {
          "output_type": "stream",
          "name": "stdout",
          "text": [
            "python3: can't open file 'train.py': [Errno 2] No such file or directory\n"
          ]
        }
      ]
    },
    {
      "cell_type": "code",
      "source": [
        "!python3 ./generate.py --length=600 --nsamples=4 --prefix=[CLS]通威发挥产业协同"
      ],
      "metadata": {
        "colab": {
          "base_uri": "https://localhost:8080/"
        },
        "id": "9llvR93mvLp5",
        "outputId": "c15a75a5-d2d9-4d77-92ec-d020f866f176"
      },
      "execution_count": null,
      "outputs": [
        {
          "output_type": "stream",
          "name": "stdout",
          "text": [
            "python3: can't open file './generate.py': [Errno 2] No such file or directory\n"
          ]
        }
      ]
    }
  ]
}